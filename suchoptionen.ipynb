{
 "cells": [
  {
   "cell_type": "markdown",
   "metadata": {},
   "source": [
    "# Suchoptionen Metadaten"
   ]
  },
  {
   "cell_type": "code",
   "execution_count": 1,
   "metadata": {},
   "outputs": [],
   "source": [
    "import pandas as pd\n",
    "\n",
    "\"\"\"Einlesen der Metadaten-Tabelle als Dataframe\"\"\"\n",
    "df_metadata = pd.read_csv(\"files\\metadata_letters.csv\")\n",
    "\n",
    "def list_content(column_name):\n",
    "    \"\"\"Auflisten der unique-Werte einer Spalte des Dataframe in alphabetischer Reihenfolge\"\"\"\n",
    "    names = (df_metadata[column_name].unique())\n",
    "    for i in sorted(names):\n",
    "        print(i)\n",
    "\n",
    "def print_result(column_name, name):\n",
    "    \"\"\"Ausgabe der Zeilen des Dataframe, die ein Suchwort (= name) enthalten\"\"\"\n",
    "    result = df_metadata.loc[df_metadata[column_name] == name, \"Dateiname\"].to_list()\n",
    "    for i in result:\n",
    "        print(i)"
   ]
  },
  {
   "cell_type": "markdown",
   "metadata": {},
   "source": [
    "## Suche nach Absender*innen"
   ]
  },
  {
   "cell_type": "markdown",
   "metadata": {},
   "source": [
    "### Ausgeben einer Liste von Absender*innen"
   ]
  },
  {
   "cell_type": "code",
   "execution_count": 2,
   "metadata": {},
   "outputs": [
    {
     "name": "stdout",
     "output_type": "stream",
     "text": [
      "Aapeli Saarisalo\n",
      "Benno Landsberger\n",
      "Cyril John Gadd\n",
      "François Thureau-Dangin\n",
      "Friedrich Stummer\n",
      "Giorgio Castellino\n",
      "Harri Holma\n",
      "Jakob J. Finkelstein\n",
      "Joh. F. Kunstmann\n",
      "Johannes Pedersen\n",
      "Karl Budde\n",
      "Karl Friedrich Müller\n",
      "Reginald Campbell Thompson\n",
      "Richard Hartmann\n",
      "Walter Andrae\n",
      "Walter G. Kunstmann\n"
     ]
    }
   ],
   "source": [
    "list_content(\"Absender*in\")"
   ]
  },
  {
   "cell_type": "markdown",
   "metadata": {},
   "source": [
    "### Auswahl eines Namens und Ausgabe der zugehörigen Briefe"
   ]
  },
  {
   "cell_type": "code",
   "execution_count": 3,
   "metadata": {},
   "outputs": [
    {
     "name": "stdout",
     "output_type": "stream",
     "text": [
      "1932-06-30_Andrae_Landsberger\n"
     ]
    }
   ],
   "source": [
    "#Einfügen des gesuchten Namens\n",
    "name = \"Walter Andrae\"\n",
    "\n",
    "print_result(\"Absender*in\", name)"
   ]
  },
  {
   "cell_type": "markdown",
   "metadata": {},
   "source": [
    "## Suche nach Empfänger*innen"
   ]
  },
  {
   "cell_type": "markdown",
   "metadata": {},
   "source": [
    "### Ausgeben einer Liste von Empfänger*innen"
   ]
  },
  {
   "cell_type": "code",
   "execution_count": 4,
   "metadata": {},
   "outputs": [
    {
     "name": "stdout",
     "output_type": "stream",
     "text": [
      "Benno Landsberger\n",
      "François Thureau-Dangin\n",
      "Jussi Aro\n",
      "Karl Friedrich Müller\n",
      "Torgny Segerstedt\n"
     ]
    }
   ],
   "source": [
    "list_content(\"Empfänger*in\")"
   ]
  },
  {
   "cell_type": "markdown",
   "metadata": {},
   "source": [
    "### Auswahl eines Namens und Ausgabe der zugehörigen Briefe"
   ]
  },
  {
   "cell_type": "code",
   "execution_count": 5,
   "metadata": {},
   "outputs": [
    {
     "name": "stdout",
     "output_type": "stream",
     "text": [
      "1960-09-27_Landsberger_Aro\n"
     ]
    }
   ],
   "source": [
    "#Einfügen des gesuchten Namens\n",
    "name = \"Jussi Aro\"\n",
    "\n",
    "print_result(\"Empfänger*in\", name)"
   ]
  },
  {
   "cell_type": "markdown",
   "metadata": {},
   "source": [
    "## Suche nach Aufenthaltsorten der Absender*innen"
   ]
  },
  {
   "cell_type": "markdown",
   "metadata": {},
   "source": [
    "### Ausgeben einer Liste von Aufenthaltsorten"
   ]
  },
  {
   "cell_type": "code",
   "execution_count": 6,
   "metadata": {},
   "outputs": [
    {
     "name": "stdout",
     "output_type": "stream",
     "text": [
      "Ankara\n",
      "Berkeley\n",
      "Berlin\n",
      "Chicago\n",
      "Frydek\n",
      "Heidelberg\n",
      "Helsinki \n",
      "Kopenhagen\n",
      "Leipzig\n",
      "London\n",
      "Marburg\n",
      "Oxford\n",
      "Paris\n",
      "Porto Alegre\n",
      "Rom\n",
      "Wiederitzsch \n",
      "Würzburg\n"
     ]
    }
   ],
   "source": [
    "list_content(\"Aufenthaltsort Absender*in\")"
   ]
  },
  {
   "cell_type": "markdown",
   "metadata": {},
   "source": [
    "### Auswahl eines Ortes und Ausgabe der zugehörigen Briefe"
   ]
  },
  {
   "cell_type": "code",
   "execution_count": 7,
   "metadata": {},
   "outputs": [
    {
     "name": "stdout",
     "output_type": "stream",
     "text": [
      "1929-07-10_Mueller_Landsberger\n"
     ]
    }
   ],
   "source": [
    "#Einfügen des gesuchten Ortes\n",
    "name = \"Leipzig\"\n",
    "\n",
    "print_result(\"Aufenthaltsort Absender*in\", name)"
   ]
  },
  {
   "cell_type": "markdown",
   "metadata": {},
   "source": [
    "## Suche nach einem Datumszeitraum"
   ]
  },
  {
   "cell_type": "code",
   "execution_count": 8,
   "metadata": {},
   "outputs": [
    {
     "name": "stdout",
     "output_type": "stream",
     "text": [
      "1929-06-06_Landsberger_ThureauDangin\n",
      "1929-07-10_Mueller_Landsberger\n",
      "1929-12-09_Hartmann_Landsberger\n",
      "1930-01-03_Budde_Landsberger\n"
     ]
    }
   ],
   "source": [
    "#Einfügen eines Datumszeitraums\n",
    "start_date = \"1929-01-01\"\n",
    "end_date = \"1931-01-01\"\n",
    "\n",
    "\"\"\"Umwandeln des Datums in ein Datetime-Format; Definieren des Datumszeitraums\"\"\"\n",
    "df_metadata[\"Datum (ISO 8601)\"] = pd.to_datetime(df_metadata[\"Datum (ISO 8601)\"], format=\"ISO8601\")\n",
    "mask = (df_metadata[\"Datum (ISO 8601)\"] > start_date) & (df_metadata[\"Datum (ISO 8601)\"] <= end_date)\n",
    "\n",
    "result_date = df_metadata.loc[mask, \"Dateiname\"].to_list()\n",
    "for i in result_date:\n",
    "    print(i)"
   ]
  },
  {
   "cell_type": "markdown",
   "metadata": {},
   "source": [
    "## Suche nach der Briefsprache"
   ]
  },
  {
   "cell_type": "markdown",
   "metadata": {},
   "source": [
    "### Ausgeben einer Liste von Sprachen"
   ]
  },
  {
   "cell_type": "code",
   "execution_count": 9,
   "metadata": {},
   "outputs": [
    {
     "name": "stdout",
     "output_type": "stream",
     "text": [
      "deutsch\n",
      "englisch\n",
      "französisch\n"
     ]
    }
   ],
   "source": [
    "list_content(\"Sprache\")"
   ]
  },
  {
   "cell_type": "markdown",
   "metadata": {},
   "source": [
    "### Auswahl einer Sprache und der zugehörigen Briefe"
   ]
  },
  {
   "cell_type": "code",
   "execution_count": 10,
   "metadata": {},
   "outputs": [
    {
     "name": "stdout",
     "output_type": "stream",
     "text": [
      "1933-03-08_Gadd_Landsberger\n",
      "1943-10-01_Thompson_Landsberger\n",
      "1956-02-15_Landsberger_Segerstedt\n",
      "1960-09-27_Landsberger_Aro\n",
      "1962-02-19_Finkelstein_Landsberger\n"
     ]
    }
   ],
   "source": [
    "#Einfügen der gesuchten Sprache\n",
    "name = \"englisch\"\n",
    "\n",
    "print_result(\"Sprache\", name)"
   ]
  },
  {
   "cell_type": "markdown",
   "metadata": {},
   "source": [
    "# Suchoptionen Briefinhalte"
   ]
  },
  {
   "cell_type": "code",
   "execution_count": 11,
   "metadata": {},
   "outputs": [],
   "source": [
    "import glob\n",
    "import pandas as pd\n",
    "import re\n",
    "from bs4 import BeautifulSoup\n",
    "from os.path import join\n",
    "\n",
    "\"\"\"Die CSV-Datei references_names.csv enthält eine Liste der ref-Attribute und xml:lang-Attribute\n",
    "(= Links zu Wikidata, Pleiades, GND, Sprachenkennung) (bzw. des Tag-Inhalts, falls kein ref-Attribut existiert),\n",
    "die in den Kerntexten der Briefe den jeweiligen Tags zugeteilt wurden.\n",
    "Die CSV-Datei wird als Dataframe eingelesen und die beiden Spalten in einem Dictionary \n",
    "als key-value-Paare zusammengefasst\"\"\"\n",
    "df_ref_names = pd.read_csv(\"files/references_names.csv\")\n",
    "dict_ref_names = dict(zip(df_ref_names[\"Ref\"],df_ref_names[\"Name\"]))\n",
    "\n",
    "def content_search(tag, attribute, ref):\n",
    "    \"\"\"Einlesen der in TEI kodierten Textinhalte;\n",
    "    Auffinden der ausgesuchten Tags und Attribute;\n",
    "    Entfernen von Zeilenumbrüchen und doppelten Leerzeichen bei den Tag-Inhalten;\n",
    "    Gemeinsames Speichern der ref-Attribute/xml:lang-Attribute und Briefnamen, Entfernen von Duplikaten;\n",
    "    Zusammenführen der Suchergebnisse für jeden einzelnen Brief in einem gemeinsamen Dictionary \n",
    "    mit ref-Attribut/xml:lang-Attribut und Briefname;\n",
    "    Abgleich der ref-Attribute/xml:lang-Attrbute mit den in der CSV-Datei gesammelten Attributen und \n",
    "    Ersetzen der Attribute durch ein Label;\n",
    "    Ausgabe des Ergebnis im Format 'Label : Briefname(, Briefname, etc.)'\n",
    "    \"\"\"\n",
    "    tags_all_letters = []\n",
    "    ref_filename_dict = {}\n",
    "    for file in glob.glob(join(\"files\", \"letters\", \"tei\", \"*.xml\")):\n",
    "        with open(file, \"r\", encoding=\"utf-8\") as infile:\n",
    "            text = infile.read()\n",
    "            filename = file.split(\"\\\\\")[-1].split(\".\")[0]\n",
    "            soup = BeautifulSoup(text, \"xml\")\n",
    "            tag_list = soup.find_all(tag, attribute)\n",
    "            ref_filename_list = []  \n",
    "            for i in tag_list:\n",
    "                content = i.text\n",
    "                content = re.sub(\"-\\n\", \"\", content) #Zusammenführung von Wörtern, die am Zeilenende durch Bindestrich getrennt werden\n",
    "                content = re.sub(\"\\n\", \" \", content) #Zusammenführung von Bezeichnungen, die aus mehreren Wörtern bestehen und auf zwei oder mehr Zeilen aufgeteilt sind\n",
    "                content = re.sub(\"  \", \"\", content)  #Entfernen von doppelten Leerzeichen\n",
    "                if i.has_attr(ref):\n",
    "                    ref_filename_list.append((i[ref], filename))\n",
    "                else:\n",
    "                    ref_filename_list.append((content, filename))\n",
    "            ref_filename_list = list(set(ref_filename_list))\n",
    "            for i in ref_filename_list:\n",
    "                tags_all_letters.append(i)\n",
    "    for (y,z) in tags_all_letters:\n",
    "        ref_key = y\n",
    "        ref_value = z\n",
    "        if y in ref_filename_dict:\n",
    "            ref_filename_dict[y] += \"; \" + z\n",
    "        else:\n",
    "            ref_filename_dict[y] = z\n",
    "\n",
    "    label_filename_dict = dict((dict_ref_names[key], value) for (key,value) in ref_filename_dict.items())\n",
    "    label_filename_dict = dict(sorted(label_filename_dict.items()))\n",
    "    for k,v in label_filename_dict.items():\n",
    "        print(f\"{k} : {v}\")"
   ]
  },
  {
   "cell_type": "markdown",
   "metadata": {},
   "source": [
    "### Erwähnungen von modernen Personen"
   ]
  },
  {
   "cell_type": "code",
   "execution_count": 12,
   "metadata": {},
   "outputs": [
    {
     "name": "stdout",
     "output_type": "stream",
     "text": [
      "Albert Schott : 1929-12-09_Hartmann_Landsberger\n",
      "Albrecht Goetze : 1929-12-09_Hartmann_Landsberger\n",
      "Alfred Pohl : 1937-01-29_Mueller_Landsberger; 1937-02-09_Landsberger_Mueller\n",
      "Anton Moortgat : 1937-02-09_Landsberger_Mueller\n",
      "Cyril John Gadd : 1931-03-11_ThureauDangin_Landsberger; 1936-05-05_Landsberger_Mueller\n",
      "Felix Ernst Peiser : 1937-01-29_Mueller_Landsberger\n",
      "Hans Ehelolf : 1932-06-30_Andrae_Landsberger\n",
      "Hans-Siegfried Schuster : 1936-05-05_Landsberger_Mueller; 1937-01-29_Mueller_Landsberger; 1937-02-09_Landsberger_Mueller\n",
      "Heinrich Zimmern : 1931-03-11_ThureauDangin_Landsberger; 1932-03-22_Pedersen_Landsberger; 1937-01-29_Mueller_Landsberger; 1937-04-12_Castellino_Landsberger\n",
      "Henri Frankfort : 1937-02-09_Landsberger_Mueller\n",
      "Johannes Friedrich : 1937-01-29_Mueller_Landsberger\n",
      "Johannes Hehn : 1933-04-17_Stummer_Landsberger\n",
      "Paul Koschaker : 1937-02-09_Landsberger_Mueller\n",
      "Stephen Herbert Langdon : 1931-03-11_ThureauDangin_Landsberger; 1937-02-09_Landsberger_Mueller\n",
      "Sébastien Ronzevalle : 1932-03-22_Pedersen_Landsberger\n"
     ]
    }
   ],
   "source": [
    "content_search(\"persName\", {\"type\" : \"modern\"}, \"ref\")"
   ]
  },
  {
   "cell_type": "markdown",
   "metadata": {},
   "source": [
    "### Erwähnungen von Konferenzen/Kongressen"
   ]
  },
  {
   "cell_type": "code",
   "execution_count": 13,
   "metadata": {},
   "outputs": [
    {
     "name": "stdout",
     "output_type": "stream",
     "text": [
      "International Congress of Orientalists : 1937-04-12_Castellino_Landsberger\n"
     ]
    }
   ],
   "source": [
    "content_search(\"title\", {\"type\" : \"meeting\"}, \"ref\")"
   ]
  },
  {
   "cell_type": "markdown",
   "metadata": {},
   "source": [
    "### Erwähnungen von modernen Orten"
   ]
  },
  {
   "cell_type": "code",
   "execution_count": 14,
   "metadata": {},
   "outputs": [
    {
     "name": "stdout",
     "output_type": "stream",
     "text": [
      "Deutschland : 1932-03-22_Pedersen_Landsberger; 1936-05-05_Landsberger_Mueller\n",
      "England : 1936-05-05_Landsberger_Mueller\n",
      "Hamah : 1932-03-22_Pedersen_Landsberger\n",
      "Israel : 1932-03-22_Pedersen_Landsberger\n",
      "Leiden : 1932-03-22_Pedersen_Landsberger\n",
      "Leipzig : 1929-12-09_Hartmann_Landsberger; 1931-03-11_ThureauDangin_Landsberger; 1932-03-22_Pedersen_Landsberger\n",
      "London : 1932-03-22_Pedersen_Landsberger; 1936-05-05_Landsberger_Mueller; 1937-02-09_Landsberger_Mueller\n",
      "Marburg : 1929-12-09_Hartmann_Landsberger\n",
      "Polen : 1936-05-05_Landsberger_Mueller\n",
      "Rom : 1937-04-12_Castellino_Landsberger\n",
      "Tschechoslowakei : 1936-05-05_Landsberger_Mueller\n",
      "Österreich : 1936-05-05_Landsberger_Mueller\n"
     ]
    }
   ],
   "source": [
    "content_search(\"placeName\", {\"type\" : \"modern\"}, \"ref\")"
   ]
  },
  {
   "cell_type": "markdown",
   "metadata": {},
   "source": [
    "### Erwähnungen von modernen Institutionen"
   ]
  },
  {
   "cell_type": "code",
   "execution_count": 15,
   "metadata": {},
   "outputs": [
    {
     "name": "stdout",
     "output_type": "stream",
     "text": [
      "Sächsische Akademie der Wissenschaften : 1932-06-30_Andrae_Landsberger\n"
     ]
    }
   ],
   "source": [
    "content_search(\"orgName\", {\"type\" : \"academy\"}, \"ref\")"
   ]
  },
  {
   "cell_type": "code",
   "execution_count": 16,
   "metadata": {},
   "outputs": [
    {
     "name": "stdout",
     "output_type": "stream",
     "text": [
      "Orientalisches und Sprachwissenschaftliches (indogermanistisches) Seminar Universität Heidelberg : 1929-12-09_Hartmann_Landsberger\n"
     ]
    }
   ],
   "source": [
    "content_search(\"orgName\", {\"type\" : \"institute\"}, \"ref\")"
   ]
  },
  {
   "cell_type": "markdown",
   "metadata": {},
   "source": [
    "### Erwähnungen von altorientalischen Orten"
   ]
  },
  {
   "cell_type": "code",
   "execution_count": 17,
   "metadata": {},
   "outputs": [
    {
     "name": "stdout",
     "output_type": "stream",
     "text": [
      "Assur : 1929-07-10_Mueller_Landsberger\n",
      "Assyrisches Reich : 1929-07-10_Mueller_Landsberger\n",
      "Babylon : 1937-01-29_Mueller_Landsberger\n",
      "Ninive : 1937-01-29_Mueller_Landsberger\n",
      "Ugarit : 1931-03-11_ThureauDangin_Landsberger\n"
     ]
    }
   ],
   "source": [
    "content_search(\"placeName\", {\"type\" : \"ANE\"}, \"ref\")"
   ]
  },
  {
   "cell_type": "markdown",
   "metadata": {},
   "source": [
    "### Erwähnungen von altorientalischen Göttern"
   ]
  },
  {
   "cell_type": "code",
   "execution_count": 18,
   "metadata": {},
   "outputs": [
    {
     "name": "stdout",
     "output_type": "stream",
     "text": [
      "Assur : 1929-07-10_Mueller_Landsberger\n",
      "Enlil : 1929-07-10_Mueller_Landsberger\n",
      "Marduk : 1929-07-10_Mueller_Landsberger\n",
      "Mārat-nāri : 1937-01-29_Mueller_Landsberger\n",
      "Nanaya : 1937-04-12_Castellino_Landsberger\n",
      "Ninlil : 1929-07-10_Mueller_Landsberger\n",
      "Serua : 1929-07-10_Mueller_Landsberger\n"
     ]
    }
   ],
   "source": [
    "content_search(\"name\", {\"type\" : \"deity\"}, \"ref\")"
   ]
  },
  {
   "cell_type": "markdown",
   "metadata": {},
   "source": [
    "### Erwähnungen von Forschungspublikationen"
   ]
  },
  {
   "cell_type": "code",
   "execution_count": 19,
   "metadata": {},
   "outputs": [
    {
     "name": "stdout",
     "output_type": "stream",
     "text": [
      "MDOG : 1929-07-10_Mueller_Landsberger\n",
      "MFOB : 1932-03-22_Pedersen_Landsberger\n",
      "RA : 1931-03-11_ThureauDangin_Landsberger\n",
      "ZA : 1933-04-17_Stummer_Landsberger; 1937-02-09_Landsberger_Mueller\n"
     ]
    }
   ],
   "source": [
    "content_search(\"title\", {\"type\" : \"journal\"}, \"ref\")"
   ]
  },
  {
   "cell_type": "code",
   "execution_count": 20,
   "metadata": {},
   "outputs": [
    {
     "name": "stdout",
     "output_type": "stream",
     "text": [
      "Falkenstein/Haupttypen der sumerischen Beschwörung : 1931-03-11_ThureauDangin_Landsberger\n",
      "Landsberger/Die serie ana ittišu : 1931-03-11_ThureauDangin_Landsberger; 1937-01-29_Mueller_Landsberger\n",
      "Landsberger/Fauna des alten Mesopotamien : 1932-06-30_Andrae_Landsberger\n",
      "Landsberger/Serie Ur-e-a= nâqu : 1937-02-09_Landsberger_Mueller\n",
      "Thureau-Dangin/Rituels accadiens : 1937-01-29_Mueller_Landsberger\n",
      "Zimmern/BBR : 1937-01-29_Mueller_Landsberger\n",
      "Zimmern/Babylonisches Neujahrsfest 2 : 1937-02-09_Landsberger_Mueller\n"
     ]
    }
   ],
   "source": [
    "content_search(\"title\", {\"type\" : \"monograph\"}, \"ref\")"
   ]
  },
  {
   "cell_type": "markdown",
   "metadata": {},
   "source": [
    "### Erwähnungen von Keilschrifttexten"
   ]
  },
  {
   "cell_type": "code",
   "execution_count": 21,
   "metadata": {},
   "outputs": [
    {
     "name": "stdout",
     "output_type": "stream",
     "text": [
      "K 10209 : 1937-01-29_Mueller_Landsberger; 1937-02-09_Landsberger_Mueller\n",
      "K 3438a : 1937-01-29_Mueller_Landsberger; 1937-02-09_Landsberger_Mueller\n",
      "K 3455 : 1937-01-29_Mueller_Landsberger\n",
      "KAR 135+ : 1929-07-10_Mueller_Landsberger; 1937-01-29_Mueller_Landsberger\n",
      "KAR 139 : 1929-07-10_Mueller_Landsberger\n",
      "KAR 146 : 1937-01-29_Mueller_Landsberger\n",
      "KAR 215+ : 1937-01-29_Mueller_Landsberger\n",
      "Lu A : 1937-02-09_Landsberger_Mueller\n",
      "Rm 2, 36 : 1931-03-11_ThureauDangin_Landsberger\n",
      "Sargons 8. Feldzug : 1929-07-10_Mueller_Landsberger\n",
      "Ura=hubullu Tafel 1 : 1936-05-05_Landsberger_Mueller\n",
      "VS 10, 215 : 1937-04-12_Castellino_Landsberger\n"
     ]
    }
   ],
   "source": [
    "content_search(\"title\", {\"type\" : \"cuneiformtext\"}, \"ref\")"
   ]
  },
  {
   "cell_type": "markdown",
   "metadata": {},
   "source": [
    "### Erwähnungen von altorientalischen Textpassagen oder Lemmata"
   ]
  },
  {
   "cell_type": "code",
   "execution_count": 22,
   "metadata": {},
   "outputs": [],
   "source": [
    "import glob\n",
    "import re\n",
    "from bs4 import BeautifulSoup\n",
    "from os.path import join\n",
    "\n",
    "def search_foreigntext(tag, attribute):\n",
    "    \"\"\"Einlesen der in TEI kodierten Textinhalte;\n",
    "    Auffinden von ausgesuchten Tags und Attributen;\n",
    "    Ausgabe des Ergebnis im Format 'Gesuchtes Tag: Briefname'\n",
    "    \"\"\"\n",
    "    for file in glob.glob(join(\"files\", \"letters\", \"tei\", \"*.xml\")):\n",
    "        with open(file, \"r\", encoding=\"utf-8\") as infile:\n",
    "            text = infile.read()\n",
    "            filename = file.split(\"\\\\\")[-1].split(\".\")[0]\n",
    "            soup = BeautifulSoup(text, \"xml\")\n",
    "            tag_list = soup.find_all(tag, attribute)\n",
    "            tag_tuple_list = []\n",
    "            for i in tag_list:\n",
    "                i = i.text\n",
    "                i = re.sub(\"-\\n\", \"\", i) #Zusammenführung von Wörtern, die am Zeilenende durch Bindestrich getrennt werden\n",
    "                i = re.sub(\"\\n\", \" \", i) #Zusammenführung von Bezeichnungen, die aus mehreren Wörtern bestehen und auf zwei oder mehr Zeilen aufgeteilt sind\n",
    "                i = re.sub(\"  \", \"\", i)  #Entfernen von doppelten Leerzeichen\n",
    "                i = (i, filename)\n",
    "                tag_tuple_list.append(i)\n",
    "            tag_tuple_list = list(set(tag_tuple_list))\n",
    "            tag_tuple_list.sort(key=lambda t : tuple(t[0].lower()))\n",
    "            for x,y in tag_tuple_list:\n",
    "                print(x + \": \" + y)"
   ]
  },
  {
   "cell_type": "markdown",
   "metadata": {},
   "source": [
    "### Akkadisch"
   ]
  },
  {
   "cell_type": "code",
   "execution_count": 23,
   "metadata": {},
   "outputs": [
    {
     "name": "stdout",
     "output_type": "stream",
     "text": [
      "ab-ba-sa: 1929-07-10_Mueller_Landsberger\n",
      "abnu: 1929-07-10_Mueller_Landsberger\n",
      "ip-pal: 1929-07-10_Mueller_Landsberger\n",
      "kararu: 1929-07-10_Mueller_Landsberger\n",
      "Pû-lišānu: 1929-07-10_Mueller_Landsberger\n",
      "lapātu: 1936-05-05_Landsberger_Mueller\n",
      "lapātu ša nakāsi: 1936-05-05_Landsberger_Mueller\n",
      "naru: 1937-01-29_Mueller_Landsberger\n",
      "takultu: 1937-01-29_Mueller_Landsberger\n",
      "il-ta-am: 1937-04-12_Castellino_Landsberger\n"
     ]
    }
   ],
   "source": [
    "search_foreigntext(\"foreign\", {\"xml:lang\" : \"akk\"})"
   ]
  },
  {
   "cell_type": "markdown",
   "metadata": {},
   "source": [
    "### Erwähnungen von altorientalischen Sprachen"
   ]
  },
  {
   "cell_type": "code",
   "execution_count": 24,
   "metadata": {},
   "outputs": [
    {
     "name": "stdout",
     "output_type": "stream",
     "text": [
      "Akkadisch : 1929-12-09_Hartmann_Landsberger; 1931-03-11_ThureauDangin_Landsberger; 1932-03-22_Pedersen_Landsberger; 1936-05-05_Landsberger_Mueller; 1937-01-29_Mueller_Landsberger; 1937-02-09_Landsberger_Mueller; 1937-04-12_Castellino_Landsberger\n",
      "Aramäisch : 1929-07-10_Mueller_Landsberger; 1932-03-22_Pedersen_Landsberger\n",
      "Hebräisch : 1937-04-12_Castellino_Landsberger\n",
      "Sumerisch : 1931-03-11_ThureauDangin_Landsberger; 1932-03-22_Pedersen_Landsberger\n"
     ]
    }
   ],
   "source": [
    "content_search(\"lang\", \"\", \"xml:lang\")"
   ]
  }
 ],
 "metadata": {
  "kernelspec": {
   "display_name": "Python 3",
   "language": "python",
   "name": "python3"
  },
  "language_info": {
   "codemirror_mode": {
    "name": "ipython",
    "version": 3
   },
   "file_extension": ".py",
   "mimetype": "text/x-python",
   "name": "python",
   "nbconvert_exporter": "python",
   "pygments_lexer": "ipython3",
   "version": "3.8.0"
  }
 },
 "nbformat": 4,
 "nbformat_minor": 2
}
