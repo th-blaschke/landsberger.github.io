{
 "cells": [
  {
   "cell_type": "markdown",
   "metadata": {},
   "source": [
    "# Suchoptionen Metadaten"
   ]
  },
  {
   "cell_type": "code",
   "execution_count": 112,
   "metadata": {},
   "outputs": [],
   "source": [
    "import pandas as pd\n",
    "\n",
    "\"\"\"Einlesen der Metadaten-Tabelle als Dataframe\"\"\"\n",
    "df_metadata = pd.read_csv(\"files\\metadata_letters.csv\")\n",
    "\n",
    "def list_content(column_name):\n",
    "    \"\"\"Auflisten der unique-Werte einer Spalte des Dataframe in alphabetischer Reihenfolge\"\"\"\n",
    "    names = (df_metadata[column_name].unique())\n",
    "    for i in sorted(names):\n",
    "        print(i)\n",
    "\n",
    "def print_result(column_name, name):\n",
    "    \"\"\"Ausgabe der Zeilen des Dataframe, die ein Suchwort (= name) enthalten\"\"\"\n",
    "    result = df_metadata.loc[df_metadata[column_name] == name, \"Dateiname\"].to_list()\n",
    "    for i in result:\n",
    "        print(i)"
   ]
  },
  {
   "cell_type": "markdown",
   "metadata": {},
   "source": [
    "## Suche nach Absender*innen"
   ]
  },
  {
   "cell_type": "markdown",
   "metadata": {},
   "source": [
    "### Ausgeben einer Liste von Absender*innen"
   ]
  },
  {
   "cell_type": "code",
   "execution_count": 113,
   "metadata": {},
   "outputs": [
    {
     "name": "stdout",
     "output_type": "stream",
     "text": [
      "Aapeli Saarisalo\n",
      "Benno Landsberger\n",
      "Cyril John Gadd\n",
      "François Thureau-Dangin\n",
      "Friedrich Stummer\n",
      "Giorgio Castellino\n",
      "Harri Holma\n",
      "Jakob J. Finkelstein\n",
      "Joh. F. Kunstmann\n",
      "Johannes Pedersen\n",
      "Karl Budde\n",
      "Karl Friedrich Müller\n",
      "Reginald Campbell Thompson\n",
      "Richard Hartmann\n",
      "Walter Andrae\n",
      "Walter G. Kunstmann\n"
     ]
    }
   ],
   "source": [
    "list_content(\"Absender*in\")"
   ]
  },
  {
   "cell_type": "markdown",
   "metadata": {},
   "source": [
    "### Auswahl eines Namens und Ausgabe der zugehörigen Briefe"
   ]
  },
  {
   "cell_type": "code",
   "execution_count": 114,
   "metadata": {},
   "outputs": [
    {
     "name": "stdout",
     "output_type": "stream",
     "text": [
      "1932-06-30_Andrae_Landsberger\n"
     ]
    }
   ],
   "source": [
    "#Einfügen des gesuchten Namens\n",
    "name = \"Walter Andrae\"\n",
    "\n",
    "print_result(\"Absender*in\", name)"
   ]
  },
  {
   "cell_type": "markdown",
   "metadata": {},
   "source": [
    "## Suche nach Empfänger*innen"
   ]
  },
  {
   "cell_type": "markdown",
   "metadata": {},
   "source": [
    "### Ausgeben einer Liste von Empfänger*innen"
   ]
  },
  {
   "cell_type": "code",
   "execution_count": 115,
   "metadata": {},
   "outputs": [
    {
     "name": "stdout",
     "output_type": "stream",
     "text": [
      "Benno Landsberger\n",
      "François Thureau-Dangin\n",
      "Jussi Aro\n",
      "Karl Friedrich Müller\n",
      "Torgny Segerstedt\n"
     ]
    }
   ],
   "source": [
    "list_content(\"Empfänger*in\")"
   ]
  },
  {
   "cell_type": "markdown",
   "metadata": {},
   "source": [
    "### Auswahl eines Namens und Ausgabe der zugehörigen Briefe"
   ]
  },
  {
   "cell_type": "code",
   "execution_count": 116,
   "metadata": {},
   "outputs": [
    {
     "name": "stdout",
     "output_type": "stream",
     "text": [
      "1960-09-27_Landsberger_Aro\n"
     ]
    }
   ],
   "source": [
    "#Einfügen des gesuchten Namens\n",
    "name = \"Jussi Aro\"\n",
    "\n",
    "print_result(\"Empfänger*in\", name)"
   ]
  },
  {
   "cell_type": "markdown",
   "metadata": {},
   "source": [
    "## Suche nach Aufenthaltsorten der Absender*innen"
   ]
  },
  {
   "cell_type": "markdown",
   "metadata": {},
   "source": [
    "### Ausgeben einer Liste von Aufenthaltsorten"
   ]
  },
  {
   "cell_type": "code",
   "execution_count": 117,
   "metadata": {},
   "outputs": [
    {
     "name": "stdout",
     "output_type": "stream",
     "text": [
      "Ankara\n",
      "Berkeley\n",
      "Berlin\n",
      "Chicago\n",
      "Frydek\n",
      "Heidelberg\n",
      "Helsinki \n",
      "Kopenhagen\n",
      "Leipzig\n",
      "London\n",
      "Marburg\n",
      "Oxford\n",
      "Paris\n",
      "Porto Alegre\n",
      "Rom\n",
      "Wiederitzsch \n",
      "Würzburg\n"
     ]
    }
   ],
   "source": [
    "list_content(\"Aufenthaltsort Absender*in\")"
   ]
  },
  {
   "cell_type": "markdown",
   "metadata": {},
   "source": [
    "### Auswahl eines Ortes und Ausgabe der zugehörigen Briefe"
   ]
  },
  {
   "cell_type": "code",
   "execution_count": 118,
   "metadata": {},
   "outputs": [
    {
     "name": "stdout",
     "output_type": "stream",
     "text": [
      "1929-07-10_Mueller_Landsberger\n"
     ]
    }
   ],
   "source": [
    "#Einfügen des gesuchten Ortes\n",
    "name = \"Leipzig\"\n",
    "\n",
    "print_result(\"Aufenthaltsort Absender*in\", name)"
   ]
  },
  {
   "cell_type": "markdown",
   "metadata": {},
   "source": [
    "## Suche nach einem Datumszeitraum"
   ]
  },
  {
   "cell_type": "code",
   "execution_count": 119,
   "metadata": {},
   "outputs": [
    {
     "name": "stdout",
     "output_type": "stream",
     "text": [
      "1929-06-06_Landsberger_ThureauDangin\n",
      "1929-07-10_Mueller_Landsberger\n",
      "1929-12-09_Hartmann_Landsberger\n",
      "1930-01-03_Budde_Landsberger\n"
     ]
    }
   ],
   "source": [
    "#Einfügen eines Datumszeitraums\n",
    "start_date = \"1929-01-01\"\n",
    "end_date = \"1931-01-01\"\n",
    "\n",
    "\"\"\"Umwandeln des Datums in ein Datetime-Format; Definieren des Datumszeitraums\"\"\"\n",
    "df_metadata[\"Datum (ISO 8601)\"] = pd.to_datetime(df_metadata[\"Datum (ISO 8601)\"], format=\"ISO8601\")\n",
    "mask = (df_metadata[\"Datum (ISO 8601)\"] > start_date) & (df_metadata[\"Datum (ISO 8601)\"] <= end_date)\n",
    "\n",
    "result_date = df_metadata.loc[mask, \"Dateiname\"].to_list()\n",
    "for i in result_date:\n",
    "    print(i)"
   ]
  },
  {
   "cell_type": "markdown",
   "metadata": {},
   "source": [
    "## Suche nach der Briefsprache"
   ]
  },
  {
   "cell_type": "markdown",
   "metadata": {},
   "source": [
    "### Ausgeben einer Liste von Sprachen"
   ]
  },
  {
   "cell_type": "code",
   "execution_count": 120,
   "metadata": {},
   "outputs": [
    {
     "name": "stdout",
     "output_type": "stream",
     "text": [
      "deutsch\n",
      "englisch\n",
      "französisch\n"
     ]
    }
   ],
   "source": [
    "list_content(\"Sprache\")"
   ]
  },
  {
   "cell_type": "markdown",
   "metadata": {},
   "source": [
    "### Auswahl einer Sprache und der zugehörigen Briefe"
   ]
  },
  {
   "cell_type": "code",
   "execution_count": 121,
   "metadata": {},
   "outputs": [
    {
     "name": "stdout",
     "output_type": "stream",
     "text": [
      "1933-03-08_Gadd_Landsberger\n",
      "1943-10-01_Thompson_Landsberger\n",
      "1956-02-15_Landsberger_Segerstedt\n",
      "1960-09-27_Landsberger_Aro\n",
      "1962-02-19_Finkelstein_Landsberger\n"
     ]
    }
   ],
   "source": [
    "#Einfügen der gesuchten Sprache\n",
    "name = \"englisch\"\n",
    "\n",
    "print_result(\"Sprache\", name)"
   ]
  },
  {
   "cell_type": "markdown",
   "metadata": {},
   "source": [
    "# Suchoptionen Briefinhalte"
   ]
  },
  {
   "cell_type": "code",
   "execution_count": 122,
   "metadata": {},
   "outputs": [],
   "source": [
    "import glob\n",
    "import re\n",
    "from bs4 import BeautifulSoup\n",
    "from os.path import join\n",
    "\n",
    "def content_search(tag, attribute):\n",
    "    \"\"\"Einlesen der in TEI kodierten Textinhalte;\n",
    "    Auffinden von ausgesuchten Tags und Attributen;\n",
    "    Ausgabe des Ergebnis im Format 'Gesuchtes Tag: Briefname'\n",
    "    \"\"\"\n",
    "    for file in glob.glob(join(f\"files\", \"letters\", \"tei\", \"*.xml\")):\n",
    "        with open(file, \"r\", encoding=\"utf-8\") as infile:\n",
    "            text = infile.read()\n",
    "            filename = file.split(\"\\\\\")[-1].split(\".\")[0]\n",
    "            soup = BeautifulSoup(text, \"xml\")\n",
    "            tag_list = soup.find_all(tag, attribute)\n",
    "            tag_tuple_list = []\n",
    "            for i in tag_list:\n",
    "                i = i.text\n",
    "                i = re.sub(\"-\\n\", \"\", i) #Zusammenführung von Wörtern, die am Zeilenende durch Bindestrich getrennt werden\n",
    "                i = re.sub(\"\\n\", \" \", i) #Zusammenführung von Bezeichnungen, die aus mehreren Wörtern bestehen und auf zwei oder mehr Zeilen aufgeteilt sind\n",
    "                i = re.sub(\"  \", \"\", i)  #Entfernen von doppelten Leerzeichen\n",
    "                i = (i, filename)\n",
    "                tag_tuple_list.append(i)\n",
    "            tag_tuple_list = list(set(tag_tuple_list))\n",
    "            tag_tuple_list.sort(key=lambda t : tuple(t[0].lower()))\n",
    "            for x,y in tag_tuple_list:\n",
    "                print(x + \": \" + y)"
   ]
  },
  {
   "cell_type": "markdown",
   "metadata": {},
   "source": [
    "### Erwähnungen von modernen Personen"
   ]
  },
  {
   "cell_type": "code",
   "execution_count": 123,
   "metadata": {},
   "outputs": [
    {
     "name": "stdout",
     "output_type": "stream",
     "text": [
      "Dr. Schott: 1929-12-09_Hartmann_Landsberger\n",
      "G.: 1929-12-09_Hartmann_Landsberger\n",
      "Götze: 1929-12-09_Hartmann_Landsberger\n",
      "Gadd: 1931-03-11_ThureauDangin_Landsberger\n",
      "Langdon: 1931-03-11_ThureauDangin_Landsberger\n",
      "Professeur Zimmern: 1931-03-11_ThureauDangin_Landsberger\n",
      "Ronzevalle: 1932-03-22_Pedersen_Landsberger\n",
      "Zimmern: 1932-03-22_Pedersen_Landsberger\n",
      "Zimmerns: 1932-03-22_Pedersen_Landsberger\n",
      "Ehelolf: 1932-06-30_Andrae_Landsberger\n"
     ]
    }
   ],
   "source": [
    "content_search(\"persName\", {\"type\" : \"modern\"})"
   ]
  },
  {
   "cell_type": "markdown",
   "metadata": {},
   "source": [
    "### Erwähnungen von altorientalischen Personen"
   ]
  },
  {
   "cell_type": "code",
   "execution_count": 124,
   "metadata": {},
   "outputs": [],
   "source": [
    "content_search(\"persName\", {\"type\" : \"ANE\"})\n"
   ]
  },
  {
   "cell_type": "markdown",
   "metadata": {},
   "source": [
    "### Erwähnungen von modernen Orten"
   ]
  },
  {
   "cell_type": "code",
   "execution_count": 125,
   "metadata": {},
   "outputs": [
    {
     "name": "stdout",
     "output_type": "stream",
     "text": [
      "Leipzig: 1929-12-09_Hartmann_Landsberger\n",
      "Marburg: 1929-12-09_Hartmann_Landsberger\n",
      "Leipzig: 1931-03-11_ThureauDangin_Landsberger\n",
      "Deutschland: 1932-03-22_Pedersen_Landsberger\n",
      "Hama: 1932-03-22_Pedersen_Landsberger\n",
      "Israel: 1932-03-22_Pedersen_Landsberger\n",
      "Leiden: 1932-03-22_Pedersen_Landsberger\n",
      "Leipzig: 1932-03-22_Pedersen_Landsberger\n",
      "London: 1932-03-22_Pedersen_Landsberger\n"
     ]
    }
   ],
   "source": [
    "content_search(\"placeName\", {\"type\" : \"modern\"})"
   ]
  },
  {
   "cell_type": "markdown",
   "metadata": {},
   "source": [
    "### Erwähnungen von modernen Institutionen"
   ]
  },
  {
   "cell_type": "code",
   "execution_count": 126,
   "metadata": {},
   "outputs": [
    {
     "name": "stdout",
     "output_type": "stream",
     "text": [
      "Sächs. Akademie: 1932-06-30_Andrae_Landsberger\n"
     ]
    }
   ],
   "source": [
    "content_search(\"orgName\", {\"type\" : \"academy\"})"
   ]
  },
  {
   "cell_type": "code",
   "execution_count": 127,
   "metadata": {},
   "outputs": [
    {
     "name": "stdout",
     "output_type": "stream",
     "text": [
      "Orientalischen und am Sprachwissenschaftlichen (indogermanistischen) Seminar: 1929-12-09_Hartmann_Landsberger\n"
     ]
    }
   ],
   "source": [
    "content_search(\"orgName\", {\"type\" : \"institute\"})"
   ]
  },
  {
   "cell_type": "markdown",
   "metadata": {},
   "source": [
    "### Erwähnungen von altorientalischen Orten"
   ]
  },
  {
   "cell_type": "code",
   "execution_count": 128,
   "metadata": {},
   "outputs": [
    {
     "name": "stdout",
     "output_type": "stream",
     "text": [
      "Assur: 1929-07-10_Mueller_Landsberger\n",
      "assyrischen Reiches: 1929-07-10_Mueller_Landsberger\n",
      "Ras Shamra: 1931-03-11_ThureauDangin_Landsberger\n"
     ]
    }
   ],
   "source": [
    "content_search(\"placeName\", {\"type\" : \"ANE\"})"
   ]
  },
  {
   "cell_type": "markdown",
   "metadata": {},
   "source": [
    "### Erwähnungen von altorientalischen Göttern"
   ]
  },
  {
   "cell_type": "code",
   "execution_count": 129,
   "metadata": {},
   "outputs": [
    {
     "name": "stdout",
     "output_type": "stream",
     "text": [
      "Assur: 1929-07-10_Mueller_Landsberger\n",
      "Assurs: 1929-07-10_Mueller_Landsberger\n",
      "Enlil: 1929-07-10_Mueller_Landsberger\n",
      "Marduk: 1929-07-10_Mueller_Landsberger\n",
      "Māratnāri: 1929-07-10_Mueller_Landsberger\n",
      "Ninlil: 1929-07-10_Mueller_Landsberger\n",
      "Serua: 1929-07-10_Mueller_Landsberger\n"
     ]
    }
   ],
   "source": [
    "content_search(\"name\", {\"type\" : \"deity\"})"
   ]
  },
  {
   "cell_type": "markdown",
   "metadata": {},
   "source": [
    "### Erwähnungen von Forschungspublikationen"
   ]
  },
  {
   "cell_type": "code",
   "execution_count": 130,
   "metadata": {},
   "outputs": [
    {
     "name": "stdout",
     "output_type": "stream",
     "text": [
      "MDOG 60: 1929-07-10_Mueller_Landsberger\n",
      "RA XIV pp. 1 et suiv: 1931-03-11_ThureauDangin_Landsberger\n",
      "MFOB: 1932-03-22_Pedersen_Landsberger\n"
     ]
    }
   ],
   "source": [
    "content_search(\"title\", {\"type\" : \"journal\"})"
   ]
  },
  {
   "cell_type": "code",
   "execution_count": 131,
   "metadata": {},
   "outputs": [
    {
     "name": "stdout",
     "output_type": "stream",
     "text": [
      "1er volume de la Neue Folge des Leipziger Semitische Studien: 1931-03-11_ThureauDangin_Landsberger\n",
      "ana ittišu: 1931-03-11_ThureauDangin_Landsberger\n",
      "Assur-Zoologie: 1932-06-30_Andrae_Landsberger\n"
     ]
    }
   ],
   "source": [
    "content_search(\"title\", {\"type\" : \"monograph\"})"
   ]
  },
  {
   "cell_type": "markdown",
   "metadata": {},
   "source": [
    "### Erwähnungen von Keilschrifttexten"
   ]
  },
  {
   "cell_type": "code",
   "execution_count": 132,
   "metadata": {},
   "outputs": [
    {
     "name": "stdout",
     "output_type": "stream",
     "text": [
      "8. Feldzug Sargons: 1929-07-10_Mueller_Landsberger\n",
      "KAR 139: 1929-07-10_Mueller_Landsberger\n",
      "Krönungsritual: 1929-07-10_Mueller_Landsberger\n",
      "RM. II, 36: 1931-03-11_ThureauDangin_Landsberger\n"
     ]
    }
   ],
   "source": [
    "content_search(\"title\", {\"type\" : \"cuneiformtext\"})"
   ]
  },
  {
   "cell_type": "markdown",
   "metadata": {},
   "source": [
    "### Erwähnungen von altorientalischen Textpassagen oder Lemmata"
   ]
  },
  {
   "cell_type": "markdown",
   "metadata": {},
   "source": [
    "### Akkadisch"
   ]
  },
  {
   "cell_type": "code",
   "execution_count": 133,
   "metadata": {},
   "outputs": [
    {
     "name": "stdout",
     "output_type": "stream",
     "text": [
      "ab-ba-sa: 1929-07-10_Mueller_Landsberger\n",
      "abnu: 1929-07-10_Mueller_Landsberger\n",
      "ip-pal: 1929-07-10_Mueller_Landsberger\n",
      "kararu: 1929-07-10_Mueller_Landsberger\n",
      "Pû-lišānu: 1929-07-10_Mueller_Landsberger\n"
     ]
    }
   ],
   "source": [
    "content_search(\"foreign\", {\"xml:lang\" : \"akk\"})"
   ]
  },
  {
   "cell_type": "markdown",
   "metadata": {},
   "source": [
    "### Erwähnungen von altorientalischen Sprachen"
   ]
  },
  {
   "cell_type": "code",
   "execution_count": 134,
   "metadata": {},
   "outputs": [
    {
     "name": "stdout",
     "output_type": "stream",
     "text": [
      "Aramäischen: 1929-07-10_Mueller_Landsberger\n",
      "Akkadisch: 1929-12-09_Hartmann_Landsberger\n",
      "accadienne: 1931-03-11_ThureauDangin_Landsberger\n",
      "sumérienne: 1931-03-11_ThureauDangin_Landsberger\n",
      "aramäische: 1932-03-22_Pedersen_Landsberger\n",
      "babylonischen: 1932-03-22_Pedersen_Landsberger\n",
      "sumerischen: 1932-03-22_Pedersen_Landsberger\n"
     ]
    }
   ],
   "source": [
    "content_search(\"lang\", \"\")"
   ]
  }
 ],
 "metadata": {
  "kernelspec": {
   "display_name": "Python 3",
   "language": "python",
   "name": "python3"
  },
  "language_info": {
   "codemirror_mode": {
    "name": "ipython",
    "version": 3
   },
   "file_extension": ".py",
   "mimetype": "text/x-python",
   "name": "python",
   "nbconvert_exporter": "python",
   "pygments_lexer": "ipython3",
   "version": "3.8.0"
  }
 },
 "nbformat": 4,
 "nbformat_minor": 2
}
